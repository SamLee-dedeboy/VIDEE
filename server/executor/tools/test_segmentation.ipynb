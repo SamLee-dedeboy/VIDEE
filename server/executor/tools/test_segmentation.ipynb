{
 "cells": [
  {
   "cell_type": "markdown",
   "metadata": {},
   "source": [
    "# Text Segmentation"
   ]
  },
  {
   "cell_type": "code",
   "execution_count": 5,
   "metadata": {},
   "outputs": [],
   "source": [
    "import pandas as pd\n",
    "import matplotlib.pyplot as plt\n",
    "import seaborn as sns\n",
    "from segmentation_tool import segmentation_tool\n",
    "sns.set(style=\"whitegrid\")\n",
    "plt.rcParams['figure.figsize'] = (12, 8)"
   ]
  },
  {
   "cell_type": "markdown",
   "metadata": {},
   "source": [
    "## Some generated random documents"
   ]
  },
  {
   "cell_type": "code",
   "execution_count": 6,
   "metadata": {},
   "outputs": [],
   "source": [
    "short_text = {\n",
    "    \"id\": \"doc-1\",\n",
    "    \"content\": \"This is a short text. It has only a few sentences. Each sentence is quite simple.\"\n",
    "}\n",
    "\n",
    "paragraphed_text = {\n",
    "    \"id\": \"doc-2\",\n",
    "    \"content\": \"\"\"Paragraph 1: This is the first paragraph. It contains multiple sentences. The sentences are about the same topic.\n",
    "\n",
    "Paragraph 2: This is the second paragraph. It's separate from the first one. A blank line divides them.\n",
    "\n",
    "Paragraph 3: This is the third paragraph. Each paragraph can be considered a semantic unit. They should be segmented properly.\"\"\"\n",
    "}\n",
    "\n",
    "long_text = {\n",
    "    \"id\": \"doc-3\",\n",
    "    \"content\": \"\"\"Machine learning is a field of inquiry devoted to understanding and building methods that 'learn', that improve performance based on experience. Machine learning algorithms build a model based on sample data, known as training data, in order to make predictions or decisions without being explicitly programmed to do so. Machine learning algorithms are used in a wide variety of applications, such as in medicine, email filtering, speech recognition, and computer vision, where it is difficult or unfeasible to develop conventional algorithms to perform the needed tasks.\n",
    "\n",
    "A subset of machine learning is closely related to computational statistics, which focuses on making predictions using computers, but not all machine learning is statistical learning. The study of mathematical optimization delivers methods, theory and application domains to the field of machine learning. Data mining is a related field of study, focusing on exploratory data analysis through unsupervised learning.\n",
    "\n",
    "Some implementations of machine learning use data and neural networks in a way that mimics the working of a biological brain. In its application across business problems, machine learning is also referred to as predictive analytics.\n",
    "\n",
    "The term machine learning was coined in 1959 by Arthur Samuel, an IBM employee and pioneer in the field of computer gaming and artificial intelligence. The synonym self-teaching computers was also used in this time period.\n",
    "\n",
    "By 1985, Terry Sejnowski and Charles Rosenberg had trained NETtalk, a neural network that learned to pronounce words in the same way as a baby, by being shown text along with correct phonetic transcriptions. Later work would use genetic algorithms or reinforcement learning, where the machine is rewarded for good responses and punished for bad ones.\"\"\"\n",
    "}\n",
    "\n",
    "# Document with clear thematic shifts\n",
    "thematic_shifts = {\n",
    "    \"id\": \"doc-4\",\n",
    "    \"content\": \"\"\"The solar system is the gravitationally bound system of the Sun and the objects that orbit it. The largest objects that orbit the Sun directly are the eight planets, with the remainder being smaller objects, such as the five dwarf planets and small Solar System bodies.\n",
    "\n",
    "Climate change is a long-term change in the average weather patterns that have come to define Earth's local, regional and global climates. Human activities, particularly fossil fuel burning, increase heat-trapping greenhouse gas levels in Earth's atmosphere, raising Earth's average surface temperature. This is global warming, which is one aspect of climate change.\n",
    "\n",
    "Artificial intelligence (AI) is intelligence demonstrated by machines, as opposed to the natural intelligence displayed by animals including humans. Leading AI textbooks define the field as the study of 'intelligent agents': any system that perceives its environment and takes actions that maximize its chance of achieving its goals.\n",
    "\n",
    "The Renaissance was a period in European history marking the transition from the Middle Ages to modernity and covering the 15th and 16th centuries. It began in Italy and spread to the rest of Europe by the 16th century. The Renaissance was characterized by an emphasis on humanism, a revival of classical learning, and reforms across society.\"\"\"\n",
    "}\n",
    "\n",
    "documents = [short_text, paragraphed_text, long_text, thematic_shifts]"
   ]
  },
  {
   "cell_type": "markdown",
   "metadata": {},
   "source": [
    "## Sentence-based Segmentation"
   ]
  },
  {
   "cell_type": "code",
   "execution_count": null,
   "metadata": {},
   "outputs": [],
   "source": [
    "for doc in documents:\n",
    "    result = segmentation_tool(\n",
    "        doc.copy(),\n",
    "        strategy=\"sentence\",\n",
    "        content_key=\"content\",\n",
    "        output_key=\"segments\"\n",
    "    )\n",
    "    \n",
    "    print(f\"Document {doc['id']} - Sentence Segmentation:\")\n",
    "    print(f\"Number of segments: {len(result['segments'])}\")\n",
    "    \n",
    "    for i, segment in enumerate(result['segments']):\n",
    "        print(f\"  Segment {i}: {segment}\")\n",
    "    print()"
   ]
  },
  {
   "cell_type": "markdown",
   "metadata": {},
   "source": [
    "## Paragraph-based Segmentation"
   ]
  },
  {
   "cell_type": "code",
   "execution_count": null,
   "metadata": {},
   "outputs": [],
   "source": [
    "for doc in documents:\n",
    "    result = segmentation_tool(\n",
    "        doc.copy(),\n",
    "        strategy=\"paragraph\",\n",
    "        content_key=\"content\",\n",
    "        output_key=\"segments\"\n",
    "    )\n",
    "    \n",
    "    print(f\"Document {doc['id']} - Paragraph Segmentation:\")\n",
    "    print(f\"Number of segments: {len(result['segments'])}\")\n",
    "    \n",
    "    for i, segment in enumerate(result['segments']):\n",
    "        print(f\"  Segment {i}: {segment}\")\n",
    "        \n",
    "    print()"
   ]
  },
  {
   "cell_type": "markdown",
   "metadata": {},
   "source": [
    "## Fixed-Length Segmentation"
   ]
  },
  {
   "cell_type": "code",
   "execution_count": null,
   "metadata": {},
   "outputs": [],
   "source": [
    "doc = long_text.copy()\n",
    "chunk_size = 50\n",
    "overlap = 10\n",
    "result = segmentation_tool(\n",
    "        doc.copy(),\n",
    "        strategy=\"fixed_length\",\n",
    "        content_key=\"content\",\n",
    "        output_key=\"segments\",\n",
    "        chunk_size=chunk_size,\n",
    "        overlap=overlap\n",
    "    )\n",
    "    \n",
    "print(f\"Fixed-length segmentation with chunk_size={chunk_size}, overlap={overlap}:\")\n",
    "print(f\"Number of segments: {len(result['segments'])}\")\n",
    "\n",
    "for i, segment in enumerate(result['segments']):\n",
    "    print(f\"  Segment {i}: {segment}\")\n",
    "    \n",
    "print()"
   ]
  },
  {
   "cell_type": "markdown",
   "metadata": {},
   "source": [
    "## Semantic Segmentation"
   ]
  },
  {
   "cell_type": "code",
   "execution_count": null,
   "metadata": {},
   "outputs": [],
   "source": [
    "\n",
    "result = segmentation_tool(\n",
    "    thematic_shifts.copy(),\n",
    "    strategy=\"semantic\",\n",
    "    content_key=\"content\",\n",
    "    output_key=\"segments\",\n",
    "    threshold=0.5  # threshold to control sensitivity to topic changes..\n",
    ")\n",
    "\n",
    "print(f\"Semantic Segmentation Results:\")\n",
    "print(f\"Number of segments: {len(result['segments'])}\")\n",
    "\n",
    "for i, segment in enumerate(result['segments']):\n",
    "    print(f\"  Segment {i}: {segment}\")\n",
    "\n",
    "# Compare with paragraph segmentation\n",
    "para_result = segmentation_tool(\n",
    "    thematic_shifts.copy(),\n",
    "    strategy=\"paragraph\",\n",
    "    content_key=\"content\",\n",
    "    output_key=\"segments\"\n",
    ")\n",
    "\n",
    "print(f\"\\nParagraph Segmentation for comparison:\")\n",
    "print(f\"Number of segments: {len(para_result['segments'])}\")\n",
    "\n",
    "for i, segment in enumerate(para_result['segments']):\n",
    "    print(f\"  Segment {i}: {segment}\")"
   ]
  }
 ],
 "metadata": {
  "kernelspec": {
   "display_name": ".venv",
   "language": "python",
   "name": "python3"
  },
  "language_info": {
   "codemirror_mode": {
    "name": "ipython",
    "version": 3
   },
   "file_extension": ".py",
   "mimetype": "text/x-python",
   "name": "python",
   "nbconvert_exporter": "python",
   "pygments_lexer": "ipython3",
   "version": "3.11.11"
  }
 },
 "nbformat": 4,
 "nbformat_minor": 4
}
