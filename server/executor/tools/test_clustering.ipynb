{
 "cells": [
  {
   "cell_type": "markdown",
   "metadata": {},
   "source": [
    "# Clustering Tools Tests\n",
    "\n",
    "tests the functionality of various clustering algorithms in the clustering_tool module, to ensure they are working"
   ]
  },
  {
   "cell_type": "code",
   "execution_count": 3,
   "metadata": {},
   "outputs": [],
   "source": [
    "import numpy as np\n",
    "import matplotlib.pyplot as plt\n",
    "import seaborn as sns\n",
    "from sklearn.datasets import make_blobs, make_moons\n",
    "from sklearn.preprocessing import StandardScaler\n",
    "from clustering_tool import clustering_tool, evaluate_clustering\n",
    "sns.set(style=\"whitegrid\")\n",
    "plt.rcParams['figure.figsize'] = (12, 6)"
   ]
  },
  {
   "cell_type": "markdown",
   "metadata": {},
   "source": [
    "## 1. Generate Sample Data\n",
    "\n",
    "synthetic data for testing clustering."
   ]
  },
  {
   "cell_type": "code",
   "execution_count": null,
   "metadata": {},
   "outputs": [],
   "source": [
    "def generate_moon_data(n_samples=300, noise=0.1, random_state=42):\n",
    "    X, y = make_moons(n_samples=n_samples, noise=noise, random_state=random_state)\n",
    "    \n",
    "    # Convert to format expected (embedding in eachdocuments) by clustering_tool\n",
    "    data = [{'id': i, 'embedding': X[i].tolist()} for i in range(len(X))]\n",
    "    \n",
    "    return data, X, y\n",
    "\n",
    "data, X, Y = generate_moon_data()\n",
    "# print(data)\n",
    "# print(X)\n",
    "# print(Y)\n",
    "\n",
    "# Visualize the data\n",
    "fig, (ax) = plt.subplots(1, 1)\n",
    "\n",
    "ax.scatter(X[:, 0], X[:, 1], c=Y, cmap='viridis', s=50, alpha=0.8)\n",
    "ax.set_title('Moon Data (Non-linear Clusters)')\n",
    "\n",
    "plt.tight_layout()\n",
    "plt.show()"
   ]
  },
  {
   "cell_type": "markdown",
   "metadata": {},
   "source": [
    "## 2. KMeans"
   ]
  },
  {
   "cell_type": "code",
   "execution_count": null,
   "metadata": {},
   "outputs": [],
   "source": [
    "kmeans_labels = clustering_tool(\n",
    "    data,\n",
    "    n_clusters=3,\n",
    "    feature_key=\"embedding\",\n",
    "    algorithm=\"kmeans\"\n",
    ")\n",
    "\n",
    "plt.figure(figsize=(10, 6))\n",
    "plt.scatter(X[:, 0], X[:, 1], c=kmeans_labels, cmap='viridis', s=50, alpha=0.8)\n",
    "plt.title('KMeans Clustering Results (n_clusters=3)')\n",
    "plt.colorbar(label='Cluster Label')\n",
    "plt.show()\n",
    "\n",
    "# Evaluate clustering performance, evaluation function is in clustering_tool.py\n",
    "metrics = evaluate_clustering(X, np.array(kmeans_labels))\n",
    "print(\"Clustering Evaluation Metrics:\")\n",
    "for metric, value in metrics.items():\n",
    "    print(f\"{metric}: {value:.4f}\")"
   ]
  },
  {
   "cell_type": "markdown",
   "metadata": {},
   "source": [
    "## 3. DBSCAN\n",
    "\n",
    "Note: good for non-linear, density-based clusters."
   ]
  },
  {
   "cell_type": "code",
   "execution_count": null,
   "metadata": {},
   "outputs": [],
   "source": [
    "dbscan_labels = clustering_tool(\n",
    "    data,\n",
    "    feature_key=\"embedding\",\n",
    "    algorithm=\"dbscan\",\n",
    "    eps=0.2,\n",
    "    min_samples=5\n",
    ")\n",
    "\n",
    "plt.figure(figsize=(10, 6))\n",
    "plt.scatter(X[:, 0], X[:, 1], c=dbscan_labels, cmap='viridis', s=50, alpha=0.8)\n",
    "plt.title('DBSCAN Clustering Results')\n",
    "plt.colorbar(label='Cluster Label')\n",
    "plt.show()\n",
    "\n",
    "# print(X)\n",
    "# print(dbscan_labels)\n",
    "metrics = evaluate_clustering(X, np.array(dbscan_labels))\n",
    "print(\"Clustering Evaluation Metrics:\")\n",
    "# print(metrics)\n",
    "for metric, value in metrics.items():\n",
    "    print(f\"{metric}: {value:.4f}\")"
   ]
  },
  {
   "cell_type": "markdown",
   "metadata": {},
   "source": [
    "## 4. Agglomerative Clustering"
   ]
  },
  {
   "cell_type": "code",
   "execution_count": null,
   "metadata": {},
   "outputs": [],
   "source": [
    "agg_labels = clustering_tool(\n",
    "    data,\n",
    "    n_clusters=3,\n",
    "    feature_key=\"embedding\",\n",
    "    algorithm=\"agglomerative\",\n",
    "    linkage=\"ward\"\n",
    ")\n",
    "plt.figure(figsize=(10, 6))\n",
    "plt.scatter(X[:, 0], X[:, 1], c=agg_labels, cmap='viridis', s=50, alpha=0.8)\n",
    "plt.title('Agglomerative Clustering Results (n_clusters=3)')\n",
    "plt.colorbar(label='Cluster Label')\n",
    "plt.show()\n",
    "metrics = evaluate_clustering(X, np.array(agg_labels))\n",
    "print(\"Clustering Evaluation Metrics:\")\n",
    "for metric, value in metrics.items():\n",
    "    print(f\"{metric}: {value:.4f}\")"
   ]
  },
  {
   "cell_type": "markdown",
   "metadata": {},
   "source": [
    "## 5. Gaussian Mixture Model Clustering"
   ]
  },
  {
   "cell_type": "code",
   "execution_count": null,
   "metadata": {},
   "outputs": [],
   "source": [
    "gmm_labels = clustering_tool(\n",
    "    data,\n",
    "    n_clusters=3,\n",
    "    feature_key=\"embedding\",\n",
    "    algorithm=\"gaussian_mixture\",\n",
    "    covariance_type=\"full\"\n",
    ")\n",
    "plt.figure(figsize=(10, 6))\n",
    "plt.scatter(X[:, 0], X[:, 1], c=gmm_labels, cmap='viridis', s=50, alpha=0.8)\n",
    "plt.title('Gaussian Mixture Model Clustering Results (n_components=3)')\n",
    "plt.colorbar(label='Cluster Label')\n",
    "plt.show()\n",
    "metrics = evaluate_clustering(X, np.array(gmm_labels))\n",
    "print(\"Clustering Evaluation Metrics:\")\n",
    "for metric, value in metrics.items():\n",
    "    print(f\"{metric}: {value:.4f}\")"
   ]
  },
  {
   "cell_type": "markdown",
   "metadata": {},
   "source": [
    "## 6. HDBSCAN"
   ]
  },
  {
   "cell_type": "code",
   "execution_count": null,
   "metadata": {},
   "outputs": [],
   "source": [
    "try:\n",
    "    hdbscan_labels = clustering_tool(\n",
    "        data,\n",
    "        feature_key=\"embedding\",\n",
    "        algorithm=\"hdbscan\",\n",
    "        min_cluster_size=5,\n",
    "        min_samples=2\n",
    "    )\n",
    "    plt.figure(figsize=(10, 6))\n",
    "    plt.scatter(X[:, 0], X[:, 1], c=hdbscan_labels, cmap='viridis', s=50, alpha=0.8)\n",
    "    plt.title('HDBSCAN Clustering Results')\n",
    "    plt.colorbar(label='Cluster Label')\n",
    "    plt.show()\n",
    "    metrics = evaluate_clustering(X, np.array(hdbscan_labels))\n",
    "    print(\"Clustering Evaluation Metrics:\")\n",
    "    for metric, value in metrics.items():\n",
    "        print(f\"{metric}: {value:.4f}\")\n",
    "except Exception as e:\n",
    "    print(f\"HDBSCAN test failed: {e}\")\n",
    "    print(\"You may need to install hdbscan: pip install hdbscan\")"
   ]
  },
  {
   "cell_type": "markdown",
   "metadata": {},
   "source": [
    "## BertTopic for sematic clustering\n",
    "\n",
    "Testing BERTopicCluster Functionality"
   ]
  },
  {
   "cell_type": "code",
   "execution_count": 13,
   "metadata": {},
   "outputs": [],
   "source": [
    "\n",
    "\n",
    "import pandas as pd\n",
    "from sklearn.feature_extraction.text import CountVectorizer\n",
    "from bertopic import BERTopic  # Ensure bertopic is installed\n",
    "\n",
    "# Set styling for plots\n",
    "sns.set(style=\"whitegrid\")\n",
    "plt.rcParams['figure.figsize'] = (14, 10)\n",
    "\n",
    "# Generated sample text documents for topic modeling\n",
    "news_articles = [\n",
    "    {\n",
    "        \"id\": 1, \n",
    "        \"content\": \"The latest advancements in artificial intelligence have led to breakthroughs in natural language processing. Researchers have developed models that can understand context and generate human-like text with unprecedented accuracy.\",\n",
    "        \"category\": \"Technology\"\n",
    "    },\n",
    "    {\n",
    "        \"id\": 2, \n",
    "        \"content\": \"Machine learning models are now being deployed in healthcare to predict patient outcomes and improve diagnostic accuracy. Hospitals are increasingly adopting AI systems to assist medical professionals.\",\n",
    "        \"category\": \"Healthcare\"\n",
    "    },\n",
    "    {\n",
    "        \"id\": 3, \n",
    "        \"content\": \"Climate scientists warn that global temperatures continue to rise at an alarming rate. New data suggests that immediate action is necessary to prevent irreversible damage to ecosystems worldwide.\",\n",
    "        \"category\": \"Environment\"\n",
    "    },\n",
    "    {\n",
    "        \"id\": 4, \n",
    "        \"content\": \"Renewable energy investments reached a record high last quarter. Solar and wind projects are becoming more cost-effective than traditional fossil fuel plants in many regions.\",\n",
    "        \"category\": \"Environment\"\n",
    "    },\n",
    "    {\n",
    "        \"id\": 5, \n",
    "        \"content\": \"The stock market showed volatility following the central bank's announcement on interest rates. Investors are cautiously monitoring economic indicators for signs of inflation.\",\n",
    "        \"category\": \"Finance\"\n",
    "    },\n",
    "    {\n",
    "        \"id\": 6, \n",
    "        \"content\": \"Tech companies are facing increased scrutiny over data privacy practices. Regulators are proposing new frameworks to protect consumer information and ensure transparency.\",\n",
    "        \"category\": \"Technology\"\n",
    "    },\n",
    "    {\n",
    "        \"id\": 7, \n",
    "        \"content\": \"A new study shows promising results for an experimental cancer treatment using immunotherapy. Clinical trials demonstrated significant tumor reduction in patients with advanced stages of the disease.\",\n",
    "        \"category\": \"Healthcare\"\n",
    "    },\n",
    "    {\n",
    "        \"id\": 8, \n",
    "        \"content\": \"Financial analysts predict continued growth in the cryptocurrency market despite recent regulatory challenges. Institutional adoption is driving mainstream acceptance of digital assets.\",\n",
    "        \"category\": \"Finance\"\n",
    "    },\n",
    "    {\n",
    "        \"id\": 9, \n",
    "        \"content\": \"Researchers have developed more efficient batteries that could extend electric vehicle range by up to 40%. This breakthrough addresses one of the main barriers to widespread EV adoption.\",\n",
    "        \"category\": \"Technology\"\n",
    "    },\n",
    "    {\n",
    "        \"id\": 10, \n",
    "        \"content\": \"Conservation efforts have led to the recovery of several endangered species in protected habitats. Biodiversity initiatives are showing positive results in ecosystem restoration.\",\n",
    "        \"category\": \"Environment\"\n",
    "    }\n",
    "]\n",
    "\n"
   ]
  },
  {
   "cell_type": "code",
   "execution_count": null,
   "metadata": {},
   "outputs": [],
   "source": [
    "\n",
    "from sentence_transformers import SentenceTransformer\n",
    "\n",
    "model = SentenceTransformer('all-MiniLM-L6-v2')\n",
    "texts = [article[\"content\"] for article in news_articles]\n",
    "embeddings = model.encode(texts)\n",
    "\n",
    "# Create data format expected by clustering_tool\n",
    "data_for_clustering = [\n",
    "    {\n",
    "        \"id\": article[\"id\"],\n",
    "        \"embedding\": embedding.tolist(),\n",
    "        \"content\": article[\"content\"],\n",
    "        \"category\": article[\"category\"]\n",
    "    }\n",
    "    for article, embedding in zip(news_articles, embeddings)\n",
    "]\n",
    "\n",
    "print(f\"Generated embeddings with shape: {embeddings.shape}\")\n",
    "        "
   ]
  },
  {
   "cell_type": "code",
   "execution_count": null,
   "metadata": {},
   "outputs": [],
   "source": [
    "import bertopic\n",
    "\n",
    "result = clustering_tool(\n",
    "    inputs=data_for_clustering,\n",
    "    algorithm=\"bertopic\",\n",
    "    feature_key=\"embedding\",\n",
    "    return_metrics=True,\n",
    "    nr_topics=\"auto\",  # Let BERTopic determine optimal number of topics\n",
    "    min_topic_size=2,\n",
    "    n_neighbors=3,  # UMAP parameter\n",
    "    n_components=5,  # UMAP dimensionality\n",
    "    verbose=True\n",
    ")\n",
    "# print(result)\n",
    "\n",
    "# metrics is the metrics returned by the clustering tool for evaluation clustering performance\n",
    "if isinstance(result, dict):\n",
    "    labels = result.get(\"labels\", [])\n",
    "    metrics = result.get(\"metrics\", {})\n",
    "else:\n",
    "    labels = result\n",
    "    metrics = {}\n",
    "\n",
    "# dataFrame with results\n",
    "results_df = pd.DataFrame({\n",
    "    \"Document\": [f\"Doc {i+1}\" for i in range(len(texts))],\n",
    "    \"Text\": [text[:50] + \"...\" for text in texts],\n",
    "    \"Topic\": labels,\n",
    "    \"Category\": [article[\"category\"] for article in news_articles]\n",
    "})\n",
    "\n",
    "print(\"\\nClustering Results:\")\n",
    "display(results_df)"
   ]
  }
 ],
 "metadata": {
  "kernelspec": {
   "display_name": ".venv",
   "language": "python",
   "name": "python3"
  },
  "language_info": {
   "codemirror_mode": {
    "name": "ipython",
    "version": 3
   },
   "file_extension": ".py",
   "mimetype": "text/x-python",
   "name": "python",
   "nbconvert_exporter": "python",
   "pygments_lexer": "ipython3",
   "version": "3.11.11"
  }
 },
 "nbformat": 4,
 "nbformat_minor": 4
}
