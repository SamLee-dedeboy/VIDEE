{
 "cells": [
  {
   "cell_type": "markdown",
   "metadata": {},
   "source": [
    "# Dimensionality Reduction Tests\n",
    "tests the functionality for dim_reduction_tool module."
   ]
  },
  {
   "cell_type": "code",
   "execution_count": 2,
   "metadata": {},
   "outputs": [],
   "source": [
    "import numpy as np\n",
    "import pandas as pd\n",
    "import matplotlib.pyplot as plt\n",
    "import seaborn as sns\n",
    "from sklearn.datasets import fetch_openml, make_swiss_roll, load_digits\n",
    "from dim_reduction_tool import dim_reduction_tool\n",
    "\n",
    "sns.set(style=\"whitegrid\")\n",
    "plt.rcParams['figure.figsize'] = (12, 8)"
   ]
  },
  {
   "cell_type": "markdown",
   "metadata": {},
   "source": [
    "## Datasets"
   ]
  },
  {
   "cell_type": "code",
   "execution_count": null,
   "metadata": {},
   "outputs": [],
   "source": [
    "# digits dataset, 64 features\n",
    "digits = load_digits()\n",
    "X_digits = digits.data\n",
    "y_digits = digits.target\n",
    "print(f\"Digits dataset shape: {X_digits.shape}\")\n",
    "\n",
    "# 3D data with 2D manifold\n",
    "X_swiss, y_swiss = make_swiss_roll(n_samples=1000, noise=0.1, random_state=42)\n",
    "print(f\"Swiss roll dataset shape: {X_swiss.shape}\")\n",
    "\n",
    "# Convert to format expected by dim_reduction_tool, in out plan input document should also have embedding field\n",
    "digits_data = [{'id': i, 'embedding': X_digits[i].tolist()} for i in range(len(X_digits))]\n",
    "swiss_data = [{'id': i, 'embedding': X_swiss[i].tolist()} for i in range(len(X_swiss))]\n",
    "\n",
    "fig = plt.figure(figsize=(10, 8))\n",
    "ax = fig.add_subplot(111, projection='3d')\n",
    "ax.scatter(X_swiss[:, 0], X_swiss[:, 1], X_swiss[:, 2], c=y_swiss, cmap='viridis')\n",
    "ax.set_title('Swiss Roll Dataset')\n",
    "plt.tight_layout()\n",
    "plt.show()"
   ]
  },
  {
   "cell_type": "markdown",
   "metadata": {},
   "source": [
    "## PCA Reduction\n",
    "\n",
    "best for linear dimensionality reduction."
   ]
  },
  {
   "cell_type": "code",
   "execution_count": null,
   "metadata": {},
   "outputs": [],
   "source": [
    "pca_digits = dim_reduction_tool(\n",
    "    digits_data,\n",
    "    feature_key=\"embedding\",\n",
    "    algorithm=\"pca\",\n",
    "    n_components=2\n",
    ")\n",
    "\n",
    "pca_digits_array = np.array(pca_digits)\n",
    "plt.figure(figsize=(10, 8))\n",
    "plt.scatter(pca_digits_array[:, 0], pca_digits_array[:, 1], c=y_digits, cmap='viridis', alpha=0.8)\n",
    "plt.colorbar(label='Digit')\n",
    "plt.title('PCA Reduction of Digits Dataset (64D → 2D)')\n",
    "plt.xlabel('First Principal Component')\n",
    "plt.ylabel('Second Principal Component')\n",
    "plt.tight_layout()\n",
    "plt.show()\n",
    "\n",
    "\n",
    "pca_swiss = dim_reduction_tool(\n",
    "    swiss_data,\n",
    "    feature_key=\"embedding\",\n",
    "    algorithm=\"pca\",\n",
    "    n_components=2\n",
    ")\n",
    "pca_swiss_array = np.array(pca_swiss)\n",
    "plt.figure(figsize=(10, 8))\n",
    "plt.scatter(pca_swiss_array[:, 0], pca_swiss_array[:, 1], c=y_swiss, cmap='viridis', alpha=0.8)\n",
    "plt.colorbar(label='Position on Roll')\n",
    "plt.title('PCA Reduction of Swiss Roll Dataset (3D → 2D)')\n",
    "plt.xlabel('First Principal Component')\n",
    "plt.ylabel('Second Principal Component')\n",
    "plt.tight_layout()\n",
    "plt.show()"
   ]
  },
  {
   "cell_type": "markdown",
   "metadata": {},
   "source": [
    "## t-SNE\n",
    "\n",
    "- best for preserving local structure and visualization."
   ]
  },
  {
   "cell_type": "code",
   "execution_count": null,
   "metadata": {},
   "outputs": [],
   "source": [
    "tsne_digits = dim_reduction_tool(\n",
    "    digits_data,\n",
    "    feature_key=\"embedding\",\n",
    "    algorithm=\"tsne\",\n",
    "    n_components=2,\n",
    "    perplexity=30,\n",
    "    learning_rate=200\n",
    ")\n",
    "tsne_digits_array = np.array(tsne_digits)\n",
    "\n",
    "plt.figure(figsize=(10, 8))\n",
    "plt.scatter(tsne_digits_array[:, 0], tsne_digits_array[:, 1], c=y_digits, cmap='viridis', alpha=0.8)\n",
    "plt.colorbar(label='Digit')\n",
    "plt.title('t-SNE Reduction of Digits Dataset (64D → 2D)')\n",
    "plt.tight_layout()\n",
    "plt.show()\n",
    "\n",
    "\n",
    "tsne_swiss = dim_reduction_tool(\n",
    "    swiss_data,\n",
    "    feature_key=\"embedding\",\n",
    "    algorithm=\"tsne\",\n",
    "    n_components=2,\n",
    "    perplexity=30,\n",
    "    learning_rate=200\n",
    ")\n",
    "\n",
    "tsne_swiss_array = np.array(tsne_swiss)\n",
    "plt.figure(figsize=(10, 8))\n",
    "plt.scatter(tsne_swiss_array[:, 0], tsne_swiss_array[:, 1], c=y_swiss, cmap='viridis', alpha=0.8)\n",
    "plt.colorbar(label='Position on Roll')\n",
    "plt.title('t-SNE Reduction of Swiss Roll Dataset (3D → 2D)')\n",
    "plt.tight_layout()\n",
    "plt.show()"
   ]
  },
  {
   "cell_type": "markdown",
   "metadata": {},
   "source": [
    "## UMAP\n",
    "\n",
    "- provides better results than t-SNE and is computationally more efficient."
   ]
  },
  {
   "cell_type": "code",
   "execution_count": null,
   "metadata": {},
   "outputs": [],
   "source": [
    "umap_digits = dim_reduction_tool(\n",
    "    digits_data,\n",
    "    feature_key=\"embedding\",\n",
    "    algorithm=\"umap\",\n",
    "    n_components=2,\n",
    "    n_neighbors=15,\n",
    "    min_dist=0.1\n",
    ")\n",
    "umap_digits_array = np.array(umap_digits)\n",
    "plt.figure(figsize=(10, 8))\n",
    "plt.scatter(umap_digits_array[:, 0], umap_digits_array[:, 1], c=y_digits, cmap='viridis', alpha=0.8)\n",
    "plt.colorbar(label='Digit')\n",
    "plt.title('UMAP Reduction of Digits Dataset (64D → 2D)')\n",
    "plt.tight_layout()\n",
    "plt.show()\n",
    "\n",
    "\n",
    "\n",
    "umap_swiss = dim_reduction_tool(\n",
    "    swiss_data,\n",
    "    feature_key=\"embedding\",\n",
    "    algorithm=\"umap\",\n",
    "    n_components=2,\n",
    "    n_neighbors=15,\n",
    "    min_dist=0.1\n",
    ")\n",
    "umap_swiss_array = np.array(umap_swiss)\n",
    "plt.figure(figsize=(10, 8))\n",
    "plt.scatter(umap_swiss_array[:, 0], umap_swiss_array[:, 1], c=y_swiss, cmap='viridis', alpha=0.8)\n",
    "plt.colorbar(label='Position on Roll')\n",
    "plt.title('UMAP Reduction of Swiss Roll Dataset (3D → 2D)')\n",
    "plt.tight_layout()\n",
    "plt.show()"
   ]
  }
 ],
 "metadata": {
  "kernelspec": {
   "display_name": ".venv",
   "language": "python",
   "name": "python3"
  },
  "language_info": {
   "codemirror_mode": {
    "name": "ipython",
    "version": 3
   },
   "file_extension": ".py",
   "mimetype": "text/x-python",
   "name": "python",
   "nbconvert_exporter": "python",
   "pygments_lexer": "ipython3",
   "version": "3.11.11"
  }
 },
 "nbformat": 4,
 "nbformat_minor": 4
}
