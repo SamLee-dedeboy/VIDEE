{
 "cells": [
  {
   "cell_type": "markdown",
   "metadata": {},
   "source": [
    "# Embedding Tools tests\n",
    "\n",
    "tests the functionality of embedding providers in the embedding_tool module, to ensure its function correctness"
   ]
  },
  {
   "cell_type": "code",
   "execution_count": 1,
   "metadata": {},
   "outputs": [],
   "source": [
    "import os\n",
    "import numpy as np\n",
    "import pandas as pd\n",
    "import matplotlib.pyplot as plt\n",
    "import seaborn as sns\n",
    "from sklearn.metrics.pairwise import cosine_similarity\n",
    "from sklearn.manifold import TSNE\n",
    "from embedding_tool import embedding_tool, batch_embedding_tool\n",
    "\n",
    "sns.set(style=\"whitegrid\")\n",
    "plt.rcParams['figure.figsize'] = (12, 8)"
   ]
  },
  {
   "cell_type": "markdown",
   "metadata": {},
   "source": [
    "## Test data generation\n",
    "\n",
    "test data for embedding."
   ]
  },
  {
   "cell_type": "code",
   "execution_count": 2,
   "metadata": {},
   "outputs": [],
   "source": [
    "# Similar to our documents data\n",
    "test_docs = [\n",
    "    {\n",
    "        \"id\": 1,\n",
    "        \"content\": \"Machine learning is a field of inquiry devoted to understanding and building methods that 'learn', that improve performance based on experience.\"\n",
    "    },\n",
    "    {\n",
    "        \"id\": 2,\n",
    "        \"content\": \"Deep learning is part of a broader family of machine learning methods based on artificial neural networks.\"\n",
    "    },\n",
    "    {\n",
    "        \"id\": 3,\n",
    "        \"content\": \"Natural language processing is a subfield of linguistics, computer science, and artificial intelligence.\"\n",
    "    },\n",
    "    {\n",
    "        \"id\": 4,\n",
    "        \"content\": \"Computer vision is an interdisciplinary field that deals with how computers can gain high-level understanding from digital images or videos.\"\n",
    "    },\n",
    "    {\n",
    "        \"id\": 5,\n",
    "        \"content\": \"Reinforcement learning is an area of machine learning concerned with how intelligent agents ought to take actions in an environment.\"\n",
    "    }\n",
    "]"
   ]
  },
  {
   "cell_type": "markdown",
   "metadata": {},
   "source": [
    "## SentenceTransformers Embedding Provider (Local)"
   ]
  },
  {
   "cell_type": "code",
   "execution_count": null,
   "metadata": {},
   "outputs": [],
   "source": [
    "import sentence_transformers\n",
    "try:\n",
    "    model_name = \"all-MiniLM-L6-v2\"\n",
    "    \n",
    "    # embedding for first document\n",
    "    embedding = embedding_tool(\n",
    "        test_docs[0],\n",
    "        model=model_name,\n",
    "        feature_key=\"content\",\n",
    "        provider=\"sentence_transformers\"\n",
    "    )\n",
    "    \n",
    "    print(f\"Single document embedding shape: {len(embedding)}\")\n",
    "    print(f\"First few values: {embedding[:5]}\")\n",
    "    \n",
    "    # Test batch embedding\n",
    "    batch_embeddings = batch_embedding_tool(\n",
    "        test_docs,\n",
    "        model=model_name,\n",
    "        feature_key=\"content\",\n",
    "        provider=\"sentence_transformers\"\n",
    "    )\n",
    "    \n",
    "    print(f\"\\nBatch embeddings count: {len(batch_embeddings)}\")\n",
    "    print(f\"Each embedding shape: {len(batch_embeddings[0])}\")\n",
    "    \n",
    "    # for further analysis\n",
    "    embeddings_array = np.array(batch_embeddings)\n",
    "    print(f\"Embeddings array shape: {embeddings_array.shape}\")\n",
    "except Exception as e:\n",
    "    print(f\"Error in SentenceTransformers testing: {e}\")\n",
    "   "
   ]
  },
  {
   "cell_type": "markdown",
   "metadata": {},
   "source": [
    "## OpenAI Embeddings"
   ]
  },
  {
   "cell_type": "code",
   "execution_count": 7,
   "metadata": {},
   "outputs": [],
   "source": [
    "openai_api_key = os.environ.get(\"OPENAI_API_KEY\", '')\n",
    "\n",
    "if openai_api_key:\n",
    "    openai_embedding = embedding_tool(\n",
    "        test_docs[0],\n",
    "        api_key=openai_api_key,\n",
    "        model=\"text-embedding-ada-002\",\n",
    "        feature_key=\"content\",\n",
    "        provider=\"openai\"\n",
    "    )\n",
    "    \n",
    "    print(f\"OpenAI embedding dimension: {len(openai_embedding)}\")\n",
    "    print(f\"First few values: {openai_embedding[:5]}\")\n",
    "    openai_embedding2 = embedding_tool(\n",
    "        test_docs[1],\n",
    "        api_key=openai_api_key,\n",
    "        model=\"text-embedding-ada-002\",\n",
    "        feature_key=\"content\",\n",
    "        provider=\"openai\"\n",
    "    )\n",
    "    \n",
    "    # Calculate similarity\n",
    "    similarity = cosine_similarity(\n",
    "        [openai_embedding], \n",
    "        [openai_embedding2]\n",
    "    )[0][0]\n",
    "    \n",
    "    print(f\"\\nSimilarity between first two documents: {similarity:.4f}\")\n",
    "    print(f\"\\nDoc 1: {test_docs[0]['content']}\")\n",
    "    print(f\"\\nDoc 2: {test_docs[1]['content']}\")"
   ]
  }
 ],
 "metadata": {
  "kernelspec": {
   "display_name": ".venv",
   "language": "python",
   "name": "python3"
  },
  "language_info": {
   "codemirror_mode": {
    "name": "ipython",
    "version": 3
   },
   "file_extension": ".py",
   "mimetype": "text/x-python",
   "name": "python",
   "nbconvert_exporter": "python",
   "pygments_lexer": "ipython3",
   "version": "3.11.11"
  }
 },
 "nbformat": 4,
 "nbformat_minor": 4
}
