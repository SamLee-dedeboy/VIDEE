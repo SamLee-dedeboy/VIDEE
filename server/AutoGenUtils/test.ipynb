{
 "cells": [
  {
   "cell_type": "code",
   "execution_count": null,
   "metadata": {},
   "outputs": [],
   "source": [
    "import re\n",
    "import json\n",
    "import warnings\n",
    "\n",
    "def escape_json_format_curly_braces(json_string: str) -> str:\n",
    "    \"\"\"\n",
    "    Identifies the 'JSON_format' field inside a JSON string and escapes curly brackets within its value.\n",
    "    \"\"\"\n",
    "    # Regular expression to find the \"JSON_format\" key and its string value\n",
    "    # pattern = r'\"JSON_format\"\\s*:\\s*\"([^\"]*)\"'\n",
    "    # pattern = r'\"JSON_format\"\\s*:\\s*\"\\{[^}]+\\}\"'\n",
    "    pattern = r'\"JSON_format\"\\s*:\\s*\"\\{.*?\\}\"'\n",
    "    match = re.search(pattern, json_string)\n",
    "    if match:\n",
    "        content_inside_quotes = match.group(0)\n",
    "        escaped_content = content_inside_quotes.replace('\"JSON_format\":', \"\").strip()[1:-1].replace(\"{\", \"{{\").replace(\"}\", \"}}\").replace('\"', \"'\")\n",
    "        escaped_content = '\"JSON_format\": \"' + escaped_content + '\"' \n",
    "\n",
    "        return re.sub(pattern, escaped_content, json_string) \n",
    "        # return escaped_content\n",
    "    else:\n",
    "        print(\"No match found.\")\n",
    "        return json_string\n",
    "\n",
    "def extract_json_content(raw_response: str):\n",
    "    \"\"\"\n",
    "    Extract and parse JSON content from LLM response with robust error handling\n",
    "\n",
    "    Args:\n",
    "        raw_response: Raw string response from the LLM\n",
    "\n",
    "    Returns:\n",
    "        Parsed JSON dict or None if unrecoverable\n",
    "    \"\"\"\n",
    "    raw_response = raw_response.strip()\n",
    "    raw_response = re.sub(r\"'\", '\"', raw_response)\n",
    "    raw_response = escape_json_format_curly_braces(raw_response)\n",
    "\n",
    "    try:\n",
    "        # try to extract the first JSON object from the raw response.\n",
    "        brace_match = re.search(r\"^\\s*\\n*(\\{[\\s\\S]+\\})\\s*\\n*$\", raw_response, re.DOTALL)\n",
    "        if brace_match:\n",
    "            return json.loads(brace_match.group(1))\n",
    "    except Exception:\n",
    "        pass\n",
    "    try:\n",
    "        # Fallback: Try to extract JSON from a markdown JSON block.\n",
    "        code_block_match = re.search(r\"```json\\s*\\n(\\{[\\s\\S]+\\})\\s*\\n```\", raw_response, re.DOTALL)\n",
    "        if code_block_match:\n",
    "            return json.loads(code_block_match.group(1))\n",
    "    except Exception:\n",
    "        pass\n",
    "    try:\n",
    "        # Fallback 2: Try to extract JSON from a markdown code block.\n",
    "        code_block_match = re.search(r\"```\\s*\\n(\\{[\\s\\S]+\\})\\s*\\n```\", raw_response, re.DOTALL)\n",
    "        if code_block_match:\n",
    "            return code_block_match.group(1)\n",
    "    except Exception:\n",
    "        pass\n",
    "    # Last resort: Find JSON-like structures in text\n",
    "    json_candidates = re.findall(r'\\{.*\\}', raw_response, re.DOTALL)\n",
    "    for candidate in json_candidates:\n",
    "        try:\n",
    "            return json.loads(candidate)\n",
    "        except json.JSONDecodeError as e:\n",
    "            warnings.warn(f\"JSON decode error in candidate: {e}\\nContent: {candidate}\")\n",
    "            continue\n",
    "\n",
    "    warnings.warn(\"No valid JSON found in response\")\n",
    "    return None\n"
   ]
  },
  {
   "cell_type": "code",
   "execution_count": 29,
   "metadata": {},
   "outputs": [
    {
     "data": {
      "text/plain": [
       "{'evaluator_specification': {'name': 'Label Generation Evaluator',\n",
       "  'definition': 'Evaluates the relevance of generated labels in a structured codebook to the theme of politics.',\n",
       "  'prompt_template': {'Context': 'You have been provided with a codebook that includes labels generated from categorizing themes in transcripts. The focus of these labels is meant to be politics.',\n",
       "   'Task': 'Evaluate whether all the labels in the codebook are relevant to the theme of politics.',\n",
       "   'Possible Scores': ['Low', 'Mid', 'High'],\n",
       "   'JSON_format': \"{'score': str, 'justification': str}\"}}}"
      ]
     },
     "execution_count": 29,
     "metadata": {},
     "output_type": "execute_result"
    }
   ],
   "source": [
    "json_str = \"\"\"{\n",
    "    \"evaluator_specification\": {\n",
    "        \"name\": \"Label Generation Evaluator\",\n",
    "        \"definition\": \"Evaluates the relevance of generated labels in a structured codebook to the theme of politics.\",\n",
    "        \"prompt_template\": {\n",
    "                \"Context\": \"You have been provided with a codebook that includes labels generated from categorizing themes in transcripts. The focus of these labels is meant to be politics.\",\n",
    "                \"Task\": \"Evaluate whether all the labels in the codebook are relevant to the theme of politics.\",\n",
    "                \"Possible Scores\": [\"Low\", \"Mid\", \"High\"],\n",
    "                \"JSON_format\": \"{'score': str, 'justification': str}\"\n",
    "        }\n",
    "    }\n",
    "}\"\"\"\n",
    "extract_json_content(json_str)\n",
    "json.loads(json_str)"
   ]
  },
  {
   "cell_type": "code",
   "execution_count": 125,
   "metadata": {},
   "outputs": [
    {
     "data": {
      "text/plain": [
       "{'evaluator_specification': {'name': 'Politics Label Evaluation',\n",
       "  'definition': 'Evaluates the relevance of generated labels in the context of political themes.',\n",
       "  'prompt_template': {'Context': 'You are given a set of labels generated for categorizing themes from transcripts. Your task is to evaluate whether these labels are centered around political themes.',\n",
       "   'Task': 'Determine the relevance of each label in relation to political themes and categorize the overall result.',\n",
       "   'Possible Scores': ['Excellent', 'Good', 'Fair', 'Poor'],\n",
       "   'JSON_format': \"{{ 'labels': [ {{'label': 'string', 'score': 'string'}} ] }}\"}}}"
      ]
     },
     "execution_count": 125,
     "metadata": {},
     "output_type": "execute_result"
    }
   ],
   "source": [
    "json_str = \"\"\"{\n",
    "    \"evaluator_specification\": {\n",
    "        \"name\": \"Politics Label Evaluation\",\n",
    "        \"definition\": 'Evaluates the relevance of generated labels in the context of political themes.',\n",
    "        \"prompt_template\": {\n",
    "            \"Context\": 'You are given a set of labels generated for categorizing themes from transcripts. Your task is to evaluate whether these labels are centered around political themes.',\n",
    "            \"Task\": 'Determine the relevance of each label in relation to political themes and categorize the overall result.',\n",
    "            \"Possible Scores\": ['Excellent', 'Good', 'Fair', 'Poor'],\n",
    "            \"JSON_format\": '{ 'labels': [ {'label': 'string', 'score': 'string'} ] }'\n",
    "        }\n",
    "    }\n",
    "}\n",
    "\"\"\"\n",
    "            # \"JSON_format\": '{ \"labels\": \"string\" }'\n",
    "extract_json_content(json_str)"
   ]
  },
  {
   "cell_type": "code",
   "execution_count": 120,
   "metadata": {},
   "outputs": [
    {
     "name": "stdout",
     "output_type": "stream",
     "text": [
      "Match found: \"JSON_format\": \"{ \"labels\": [ {\"label\": \"string\", \"score\": \"string\"} ] }\"\n"
     ]
    },
    {
     "ename": "NameError",
     "evalue": "name 'escape_curly_braces' is not defined",
     "output_type": "error",
     "traceback": [
      "\u001b[0;31m---------------------------------------------------------------------------\u001b[0m",
      "\u001b[0;31mNameError\u001b[0m                                 Traceback (most recent call last)",
      "Cell \u001b[0;32mIn[120], line 21\u001b[0m\n\u001b[1;32m     19\u001b[0m \u001b[38;5;28;01melse\u001b[39;00m:\n\u001b[1;32m     20\u001b[0m     \u001b[38;5;28mprint\u001b[39m(\u001b[38;5;124m\"\u001b[39m\u001b[38;5;124mNo match found.\u001b[39m\u001b[38;5;124m\"\u001b[39m)\n\u001b[0;32m---> 21\u001b[0m re\u001b[38;5;241m.\u001b[39msub(pattern, \u001b[43mescape_curly_braces\u001b[49m, json_string)\n",
      "\u001b[0;31mNameError\u001b[0m: name 'escape_curly_braces' is not defined"
     ]
    }
   ],
   "source": [
    "text = '''\n",
    "\"prompt_template\": {\n",
    "    \"Context\": \"You have been provided with a codebook that includes labels generated from categorizing themes in transcripts. The focus of these labels is meant to be politics.\",\n",
    "    \"Task\": \"Evaluate whether all the labels in the codebook are relevant to the theme of politics.\",\n",
    "    \"Possible Scores\": [\"Low\", \"Mid\", \"High\"],\n",
    "    \"JSON_format\": \"{'score': str, 'justification': str}\"\n",
    "}\n",
    "'''\n",
    "text = '''\"JSON_format\": \"{ \"labels\": \"string\" }\"'''\n",
    "text = '''\"JSON_format\": \"{ \"labels\": [ {\"label\": \"string\", \"score\": \"string\"} ] }\"'''\n",
    "# pattern = r'\"JSON_format\"\\s*:\\s*\"\\{[^}]+\\}\"'\n",
    "pattern = r'\"JSON_format\"\\s*:\\s*\"\\{.*?\\}\"'\n",
    "\n",
    "match = re.search(pattern, text)\n",
    "\n",
    "# Print result\n",
    "if match:\n",
    "    print(\"Match found:\", match.group(0))\n",
    "else:\n",
    "    print(\"No match found.\")\n",
    "re.sub(pattern, escape_curly_braces, json_string)"
   ]
  }
 ],
 "metadata": {
  "kernelspec": {
   "display_name": "taskdecomposition",
   "language": "python",
   "name": "python3"
  },
  "language_info": {
   "codemirror_mode": {
    "name": "ipython",
    "version": 3
   },
   "file_extension": ".py",
   "mimetype": "text/x-python",
   "name": "python",
   "nbconvert_exporter": "python",
   "pygments_lexer": "ipython3",
   "version": "3.10.0"
  }
 },
 "nbformat": 4,
 "nbformat_minor": 2
}
