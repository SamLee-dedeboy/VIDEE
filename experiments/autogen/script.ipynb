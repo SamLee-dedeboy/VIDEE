{
 "cells": [
  {
   "cell_type": "code",
   "execution_count": null,
   "metadata": {},
   "outputs": [],
   "source": [
    "import json\n",
    "from typing import AsyncGenerator, List, Sequence\n",
    "from autogen_core import CancellationToken\n",
    "from autogen_ext.models.openai import OpenAIChatCompletionClient\n",
    "from autogen_agentchat.agents import AssistantAgent\n",
    "from autogen_agentchat.messages import TextMessage\n",
    "\n",
    "\n",
    "\n",
    "\n",
    "async def goal_decomposition_result(query: str) -> str:\n",
    "    \"\"\"Find information on the web\"\"\"\n",
    "    return \"AutoGen is a programming framework for building multi-agent applications.\"\n",
    "\n",
    "async def run_goal_decomposition_agent(goal: str) -> None:\n",
    "    # Create a countdown agent.\n",
    "    model_client = OpenAIChatCompletionClient(\n",
    "        model=\"gpt-4o-mini\",\n",
    "        api_key=open(\"api_key\").read(),\n",
    "    )\n",
    "    goal_decomposition_agent = AssistantAgent(\n",
    "        name=\"goal_decomposition_agent\", \n",
    "        model_client=model_client,\n",
    "        system_message=\"\"\"You are a text analytics task planner. Users have collected a dataset, and they need help with text analytics tasks.  Users will describe a goal to you, and you need to help them decompose the goal into subtasks, and then provide a plan to complete each of the subtask.\n",
    "        Reply with this JSON format:\n",
    "{\n",
    "    \"steps\": [\n",
    "        {\n",
    "            \"label\": (string)\n",
    "            \"description\": (string)\n",
    "            \"explanation\": (string, explain why this step is needed)\n",
    "        },\n",
    "        {\n",
    "            \"label\": (string)\n",
    "            \"description\": (string)\n",
    "            \"explanation\": (string, explain why this step is needed)\n",
    "        },\n",
    "        ...\n",
    "    ]\n",
    "}  \"\"\")\n",
    "    response = await goal_decomposition_agent.on_messages(\n",
    "        [TextMessage(content=goal, source=\"user\")],\n",
    "        cancellation_token=CancellationToken(),\n",
    "    )\n",
    "    return json.loads(response.chat_message.content)\n",
    "    print(response.chat_message)\n",
    "\n",
    "    # Run the agent with a given task and stream the response.\n",
    "\n",
    "# Use asyncio.run(run_countdown_agent()) when running in a script.\n",
    "goal = \"I need to construct a knowledge graph from a collection of documents from wikipedia.\"\n",
    "response = await run_goal_decomposition_agent(goal=goal)"
   ]
  },
  {
   "cell_type": "code",
   "execution_count": 16,
   "metadata": {},
   "outputs": [
    {
     "data": {
      "text/plain": [
       "{'steps': [{'label': 'Document Collection',\n",
       "   'description': 'Compile the selected Wikipedia documents that will serve as the data source for the knowledge graph.',\n",
       "   'explanation': 'This step is essential to ensure that you have all relevant content gathered in one place to work with. A defined set of documents will help focus the analysis and extraction process.'},\n",
       "  {'label': 'Text Preprocessing',\n",
       "   'description': 'Clean and normalize the text from the collected documents to remove noise and facilitate entity extraction.',\n",
       "   'explanation': 'Preprocessing ensures that the data is in a usable format, including lowercasing, removing punctuation, and filtering out stop words. Clean text improves the accuracy of subsequent steps like entity recognition.'},\n",
       "  {'label': 'Entity Recognition',\n",
       "   'description': 'Utilize Named Entity Recognition (NER) tools or libraries to identify and extract entities (e.g., persons, organizations, locations) from the cleaned text.',\n",
       "   'explanation': 'Identifying key entities is crucial for building the nodes in your knowledge graph. This step transforms raw text into structured information about important topics within the documents.'},\n",
       "  {'label': 'Relationship Extraction',\n",
       "   'description': 'Analyze the text to identify relationships between the extracted entities using techniques like dependency parsing or co-occurrence analysis.',\n",
       "   'explanation': 'Establishing relationships between entities is a fundamental component of knowledge graphs. This step captures how entities connect, providing a structural aspect to the graph.'},\n",
       "  {'label': 'Graph Construction',\n",
       "   'description': 'Create the knowledge graph structure by linking entities and their relationships in a graph database or visualization tool.',\n",
       "   'explanation': 'This step transitions the information extracted into a visual and navigable network of knowledge, which allows for better understanding and querying of relationships between entities.'},\n",
       "  {'label': 'Graph Validation',\n",
       "   'description': 'Perform checks to validate the accuracy of the entities and relationships in the knowledge graph.',\n",
       "   'explanation': 'Validation is necessary to ensure the trustworthiness of the knowledge graph. It confirms that the graph representations accurately reflect the data from the original documents.'},\n",
       "  {'label': 'Graph Optimization',\n",
       "   'description': 'Optimize the graph for performance, including indexing and query performance improvements.',\n",
       "   'explanation': 'Optimization enhances the usability of the knowledge graph by ensuring fast retrieval and smoother navigation through queries, improving the user experience in accessing the data.'},\n",
       "  {'label': 'Visualization and Exploration',\n",
       "   'description': 'Utilize graph visualization tools to represent the knowledge graph, allowing for exploration and insights.',\n",
       "   'explanation': 'Visual representation of the knowledge graph aids in understanding complex relationships and patterns that may not be readily apparent in textual format, enhancing knowledge discovery.'}]}"
      ]
     },
     "execution_count": 16,
     "metadata": {},
     "output_type": "execute_result"
    }
   ],
   "source": [
    "import json\n",
    "json.loads(response.content)"
   ]
  }
 ],
 "metadata": {
  "kernelspec": {
   "display_name": "taskdecomposition",
   "language": "python",
   "name": "python3"
  },
  "language_info": {
   "codemirror_mode": {
    "name": "ipython",
    "version": 3
   },
   "file_extension": ".py",
   "mimetype": "text/x-python",
   "name": "python",
   "nbconvert_exporter": "python",
   "pygments_lexer": "ipython3",
   "version": "3.13.0"
  }
 },
 "nbformat": 4,
 "nbformat_minor": 2
}
