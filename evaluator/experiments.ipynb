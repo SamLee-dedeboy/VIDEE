{
 "cells": [
  {
   "cell_type": "code",
   "execution_count": 1,
   "metadata": {},
   "outputs": [],
   "source": [
    "from autogen_core import CancellationToken\n",
    "from autogen_ext.models.openai import OpenAIChatCompletionClient\n",
    "from autogen_agentchat.agents import AssistantAgent\n",
    "from autogen_agentchat.messages import TextMessage"
   ]
  },
  {
   "cell_type": "code",
   "execution_count": 2,
   "metadata": {},
   "outputs": [],
   "source": [
    "# openai_client = OpenAI(api_key=open(\"../api_key\").read().strip())"
   ]
  },
  {
   "cell_type": "code",
   "execution_count": 3,
   "metadata": {},
   "outputs": [],
   "source": [
    "async def run_complexity_evaluation_agent(\n",
    "    text: str,\n",
    "    model: str,\n",
    "    api_key: str,\n",
    "    complexity_definition: str = (\n",
    "        \"A text is considered complex if it requires advanced knowledge \"\n",
    "        \"or expertise, contains multiple layered or specialized concepts, or \"\n",
    "        \"requires multi-step reasoning to understand or accomplish the described goal. \"\n",
    "        \"Otherwise, it's considered not complex.\"\n",
    "    ),\n",
    "):\n",
    "    \n",
    "    model_client = OpenAIChatCompletionClient(\n",
    "        model=model,\n",
    "        api_key=api_key,\n",
    "    )\n",
    "    \n",
    "    complexity_evaluation_agent = AssistantAgent(\n",
    "        name=\"complexity_evaluation_agent\",\n",
    "        model_client=model_client,\n",
    "        # temperature=0.5,\n",
    "        system_message=f\"\"\"You are a text complexity evaluator. The user will provide some text that describes a task.\n",
    "Your job is to evaluate whether the text is 'complex' or 'not complex' based on the following definition:\n",
    "{complexity_definition}\n",
    "\n",
    "If the text meets the complexity definition, respond with:\n",
    "\"Yes\"\n",
    "\n",
    "Otherwise, respond with:\n",
    "\"No\"\n",
    "\n",
    "Output must be EXACTLY one of these words, with no additional formatting, punctuation, or explanation.\n",
    "\"\"\",\n",
    "    )\n",
    "    \n",
    "    response = await complexity_evaluation_agent.on_messages(\n",
    "        [TextMessage(content=text, source=\"user\")],\n",
    "        cancellation_token=CancellationToken(),\n",
    "    )\n",
    "\n",
    "    result = response.chat_message.content.strip()\n",
    "    return 1 if result == \"Yes\" else 0"
   ]
  },
  {
   "cell_type": "code",
   "execution_count": 4,
   "metadata": {},
   "outputs": [],
   "source": [
    "async def run_coherence_evaluation_agent(\n",
    "    parent_part: str,\n",
    "    child_part: str,\n",
    "    model: str,\n",
    "    api_key: str,\n",
    "    coherence_definition: str = (\n",
    "        \"Two text pieces are considered coherent in a sequence if the second \"\n",
    "        \"logically or thematically follows from the first, maintains consistency with it, \"\n",
    "        \"and does not present a contradictory or unrelated concept.\"\n",
    "    ),\n",
    "):\n",
    "    \n",
    "    model_client = OpenAIChatCompletionClient(\n",
    "        model=model,\n",
    "        api_key=api_key,\n",
    "    )\n",
    "    \n",
    "    coherence_evaluation_agent = AssistantAgent(\n",
    "        name=\"coherence_evaluation_agent\",\n",
    "        model_client=model_client,\n",
    "        # temperature=0.5,\n",
    "        system_message=f\"\"\"You are a coherence evaluator. You will be given two parts of a sequence:\n",
    "- Parent Part: {parent_part}\n",
    "- Child Part: {child_part}\n",
    "\n",
    "Evaluate whether Child Part logically or thematically follows from Parent Part, consistent with the following definition of coherence:\n",
    "{coherence_definition}\n",
    "\n",
    "If they are coherent, respond with:\n",
    "\"Yes\"\n",
    "\n",
    "If they are not coherent, respond with:\n",
    "\"No\"\n",
    "\n",
    "Output must be EXACTLY one of these words, with no additional formatting, punctuation, or explanation.\n",
    "\"\"\"\n",
    "    )\n",
    "    \n",
    "    response = await coherence_evaluation_agent.on_messages(\n",
    "        [TextMessage(content=\"\", source=\"user\")],\n",
    "        cancellation_token=CancellationToken(),\n",
    "    )\n",
    "    \n",
    "    result = response.chat_message.content.strip()\n",
    "    \n",
    "    return 1 if result == \"Yes\" else 0"
   ]
  },
  {
   "cell_type": "code",
   "execution_count": 5,
   "metadata": {},
   "outputs": [],
   "source": [
    "async def run_importance_evaluation_agent(\n",
    "    final_goal: str,\n",
    "    subtask_description: str,\n",
    "    model: str,\n",
    "    api_key: str,\n",
    "    importance_definition: str = (\n",
    "        \"A subtask is considered important if it is critical, essential, \"\n",
    "        \"or significantly beneficial to achieving the final goal. If it is tangential, \"\n",
    "        \"optional, or has minimal impact, then it is not important.\"\n",
    "    ),\n",
    "):\n",
    "    \n",
    "    model_client = OpenAIChatCompletionClient(\n",
    "        model=model,\n",
    "        api_key=api_key,\n",
    "    )\n",
    "    \n",
    "    importance_evaluation_agent = AssistantAgent(\n",
    "        name=\"importance_evaluation_agent\",\n",
    "        model_client=model_client,\n",
    "        # temperature=0.5,\n",
    "        system_message=f\"\"\"You are an importance evaluator. You will be given:\n",
    "- A final task goal: {final_goal}\n",
    "- A subtask description: {subtask_description}\n",
    "\n",
    "Evaluate whether the subtask is important using the following definition:\n",
    "{importance_definition}\n",
    "\n",
    "If they are important, respond with:\n",
    "\"Yes\"\n",
    "\n",
    "Otherwise, respond with:\n",
    "\"No\"\n",
    "\n",
    "Output must be EXACTLY one of these words, with no additional formatting, punctuation, or explanation.\n",
    "\"\"\")\n",
    "    \n",
    "    response = await importance_evaluation_agent.on_messages(\n",
    "        [TextMessage(content=\"\", source=\"user\")],\n",
    "        cancellation_token=CancellationToken(),\n",
    "    )\n",
    "    \n",
    "    result = response.chat_message.content.strip()\n",
    "    return 1 if result == \"Yes\" else 0"
   ]
  },
  {
   "cell_type": "code",
   "execution_count": 6,
   "metadata": {},
   "outputs": [
    {
     "data": {
      "text/plain": [
       "1"
      ]
     },
     "execution_count": 6,
     "metadata": {},
     "output_type": "execute_result"
    }
   ],
   "source": [
    "complexity = await run_complexity_evaluation_agent(\n",
    "    text = 'This step is crucial as it allows you to identify the key components (entities) and how they are related to each other, which is foundational for constructing a knowledge graph.',\n",
    "    model = 'gpt-4o-mini',\n",
    "    api_key=open(\"../api_key\").read().strip()\n",
    ")\n",
    "complexity"
   ]
  },
  {
   "cell_type": "code",
   "execution_count": 7,
   "metadata": {},
   "outputs": [
    {
     "data": {
      "text/plain": [
       "0"
      ]
     },
     "execution_count": 7,
     "metadata": {},
     "output_type": "execute_result"
    }
   ],
   "source": [
    "coherence = await run_coherence_evaluation_agent(\n",
    "    parent_part = 'This step is crucial as it allows you to identify the key components (entities) and how they are related to each other, which is foundational for constructing a knowledge graph.',\n",
    "    child_part = 'This step is crucial as it allows you to identify the key components (entities) and how they are related to each other, which is foundational for constructing a knowledge graph.',\n",
    "    model = 'gpt-4o-mini',\n",
    "    api_key=open(\"../api_key\").read().strip()\n",
    ")\n",
    "coherence"
   ]
  },
  {
   "cell_type": "code",
   "execution_count": 8,
   "metadata": {},
   "outputs": [
    {
     "data": {
      "text/plain": [
       "0"
      ]
     },
     "execution_count": 8,
     "metadata": {},
     "output_type": "execute_result"
    }
   ],
   "source": [
    "importance = await run_importance_evaluation_agent(\n",
    "    final_goal = \"Entity Extraction\",\n",
    "    subtask_description = \"This step is crucial as it allows you to identify the key components (entities) and how they are related to each other, which is foundational for constructing a knowledge graph.\",\n",
    "    model = 'gpt-4o-mini',\n",
    "    api_key=open(\"../api_key\").read().strip()\n",
    ")\n",
    "importance"
   ]
  }
 ],
 "metadata": {
  "kernelspec": {
   "display_name": "task-decomp",
   "language": "python",
   "name": "python3"
  },
  "language_info": {
   "codemirror_mode": {
    "name": "ipython",
    "version": 3
   },
   "file_extension": ".py",
   "mimetype": "text/x-python",
   "name": "python",
   "nbconvert_exporter": "python",
   "pygments_lexer": "ipython3",
   "version": "3.10.16"
  }
 },
 "nbformat": 4,
 "nbformat_minor": 2
}
